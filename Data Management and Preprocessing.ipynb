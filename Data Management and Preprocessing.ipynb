{
 "cells": [
  {
   "cell_type": "markdown",
   "id": "469543c1",
   "metadata": {},
   "source": [
    "# Data Management and Preprocessing"
   ]
  },
  {
   "cell_type": "markdown",
   "id": "b8bbd6d0",
   "metadata": {},
   "source": [
    "## Objective:\n",
    "\n",
    "We will dive into the world of data management and pre-processing for financial services using a dataset from LendingClub. The goal is to apply essential data cleaning and transformation techniques to prepare the data for further analysis and modeling."
   ]
  },
  {
   "cell_type": "markdown",
   "id": "6907039e",
   "metadata": {},
   "source": [
    "# Load The Dataset"
   ]
  },
  {
   "cell_type": "code",
   "execution_count": 2,
   "id": "13988cac",
   "metadata": {},
   "outputs": [],
   "source": [
    "import pandas as pd\n",
    "import matplotlib.pyplot as plt\n",
    "data = pd.read_csv('accepted_2007_to_2018q4.csv', low_memory=False)"
   ]
  },
  {
   "cell_type": "markdown",
   "id": "79ee3c04",
   "metadata": {},
   "source": [
    "# Data Exploration (EDA)"
   ]
  },
  {
   "cell_type": "code",
   "execution_count": 3,
   "id": "21fc6f1f",
   "metadata": {},
   "outputs": [
    {
     "name": "stdout",
     "output_type": "stream",
     "text": [
      "id -> object\n",
      "member_id -> float64\n",
      "loan_amnt -> float64\n",
      "funded_amnt -> float64\n",
      "funded_amnt_inv -> float64\n",
      "term -> object\n",
      "int_rate -> float64\n",
      "installment -> float64\n",
      "grade -> object\n",
      "sub_grade -> object\n",
      "emp_title -> object\n",
      "emp_length -> object\n",
      "home_ownership -> object\n",
      "annual_inc -> float64\n",
      "verification_status -> object\n",
      "issue_d -> object\n",
      "loan_status -> object\n",
      "pymnt_plan -> object\n",
      "url -> object\n",
      "desc -> object\n",
      "purpose -> object\n",
      "title -> object\n",
      "zip_code -> object\n",
      "addr_state -> object\n",
      "dti -> float64\n",
      "delinq_2yrs -> float64\n",
      "earliest_cr_line -> object\n",
      "fico_range_low -> float64\n",
      "fico_range_high -> float64\n",
      "inq_last_6mths -> float64\n",
      "mths_since_last_delinq -> float64\n",
      "mths_since_last_record -> float64\n",
      "open_acc -> float64\n",
      "pub_rec -> float64\n",
      "revol_bal -> float64\n",
      "revol_util -> float64\n",
      "total_acc -> float64\n",
      "initial_list_status -> object\n",
      "out_prncp -> float64\n",
      "out_prncp_inv -> float64\n",
      "total_pymnt -> float64\n",
      "total_pymnt_inv -> float64\n",
      "total_rec_prncp -> float64\n",
      "total_rec_int -> float64\n",
      "total_rec_late_fee -> float64\n",
      "recoveries -> float64\n",
      "collection_recovery_fee -> float64\n",
      "last_pymnt_d -> object\n",
      "last_pymnt_amnt -> float64\n",
      "next_pymnt_d -> object\n",
      "last_credit_pull_d -> object\n",
      "last_fico_range_high -> float64\n",
      "last_fico_range_low -> float64\n",
      "collections_12_mths_ex_med -> float64\n",
      "mths_since_last_major_derog -> float64\n",
      "policy_code -> float64\n",
      "application_type -> object\n",
      "annual_inc_joint -> float64\n",
      "dti_joint -> float64\n",
      "verification_status_joint -> object\n",
      "acc_now_delinq -> float64\n",
      "tot_coll_amt -> float64\n",
      "tot_cur_bal -> float64\n",
      "open_acc_6m -> float64\n",
      "open_act_il -> float64\n",
      "open_il_12m -> float64\n",
      "open_il_24m -> float64\n",
      "mths_since_rcnt_il -> float64\n",
      "total_bal_il -> float64\n",
      "il_util -> float64\n",
      "open_rv_12m -> float64\n",
      "open_rv_24m -> float64\n",
      "max_bal_bc -> float64\n",
      "all_util -> float64\n",
      "total_rev_hi_lim -> float64\n",
      "inq_fi -> float64\n",
      "total_cu_tl -> float64\n",
      "inq_last_12m -> float64\n",
      "acc_open_past_24mths -> float64\n",
      "avg_cur_bal -> float64\n",
      "bc_open_to_buy -> float64\n",
      "bc_util -> float64\n",
      "chargeoff_within_12_mths -> float64\n",
      "delinq_amnt -> float64\n",
      "mo_sin_old_il_acct -> float64\n",
      "mo_sin_old_rev_tl_op -> float64\n",
      "mo_sin_rcnt_rev_tl_op -> float64\n",
      "mo_sin_rcnt_tl -> float64\n",
      "mort_acc -> float64\n",
      "mths_since_recent_bc -> float64\n",
      "mths_since_recent_bc_dlq -> float64\n",
      "mths_since_recent_inq -> float64\n",
      "mths_since_recent_revol_delinq -> float64\n",
      "num_accts_ever_120_pd -> float64\n",
      "num_actv_bc_tl -> float64\n",
      "num_actv_rev_tl -> float64\n",
      "num_bc_sats -> float64\n",
      "num_bc_tl -> float64\n",
      "num_il_tl -> float64\n",
      "num_op_rev_tl -> float64\n",
      "num_rev_accts -> float64\n",
      "num_rev_tl_bal_gt_0 -> float64\n",
      "num_sats -> float64\n",
      "num_tl_120dpd_2m -> float64\n",
      "num_tl_30dpd -> float64\n",
      "num_tl_90g_dpd_24m -> float64\n",
      "num_tl_op_past_12m -> float64\n",
      "pct_tl_nvr_dlq -> float64\n",
      "percent_bc_gt_75 -> float64\n",
      "pub_rec_bankruptcies -> float64\n",
      "tax_liens -> float64\n",
      "tot_hi_cred_lim -> float64\n",
      "total_bal_ex_mort -> float64\n",
      "total_bc_limit -> float64\n",
      "total_il_high_credit_limit -> float64\n",
      "revol_bal_joint -> float64\n",
      "sec_app_fico_range_low -> float64\n",
      "sec_app_fico_range_high -> float64\n",
      "sec_app_earliest_cr_line -> object\n",
      "sec_app_inq_last_6mths -> float64\n",
      "sec_app_mort_acc -> float64\n",
      "sec_app_open_acc -> float64\n",
      "sec_app_revol_util -> float64\n",
      "sec_app_open_act_il -> float64\n",
      "sec_app_num_rev_accts -> float64\n",
      "sec_app_chargeoff_within_12_mths -> float64\n",
      "sec_app_collections_12_mths_ex_med -> float64\n",
      "sec_app_mths_since_last_major_derog -> float64\n",
      "hardship_flag -> object\n",
      "hardship_type -> object\n",
      "hardship_reason -> object\n",
      "hardship_status -> object\n",
      "deferral_term -> float64\n",
      "hardship_amount -> float64\n",
      "hardship_start_date -> object\n",
      "hardship_end_date -> object\n",
      "payment_plan_start_date -> object\n",
      "hardship_length -> float64\n",
      "hardship_dpd -> float64\n",
      "hardship_loan_status -> object\n",
      "orig_projected_additional_accrued_interest -> float64\n",
      "hardship_payoff_balance_amount -> float64\n",
      "hardship_last_payment_amount -> float64\n",
      "disbursement_method -> object\n",
      "debt_settlement_flag -> object\n",
      "debt_settlement_flag_date -> object\n",
      "settlement_status -> object\n",
      "settlement_date -> object\n",
      "settlement_amount -> float64\n",
      "settlement_percentage -> float64\n",
      "settlement_term -> float64\n"
     ]
    }
   ],
   "source": [
    "#explored column types this way because dtype function was cutting off due to large amount of cols\n",
    "for col in data.columns:\n",
    "    print(col, '->', data[col].dtype)"
   ]
  },
  {
   "cell_type": "markdown",
   "id": "d67fe819",
   "metadata": {},
   "source": [
    "Based on looking at the column names and picking 3 numerical and 3 categorical variables I am selecting at random\n",
    "\n",
    "Numerical: annual_inc_joint, total_pymnt, int_rate,\n",
    "Categorical: addr_state, hardship_status, title"
   ]
  },
  {
   "cell_type": "code",
   "execution_count": 4,
   "id": "62e2278c",
   "metadata": {},
   "outputs": [
    {
     "data": {
      "text/html": [
       "<div>\n",
       "<style scoped>\n",
       "    .dataframe tbody tr th:only-of-type {\n",
       "        vertical-align: middle;\n",
       "    }\n",
       "\n",
       "    .dataframe tbody tr th {\n",
       "        vertical-align: top;\n",
       "    }\n",
       "\n",
       "    .dataframe thead th {\n",
       "        text-align: right;\n",
       "    }\n",
       "</style>\n",
       "<table border=\"1\" class=\"dataframe\">\n",
       "  <thead>\n",
       "    <tr style=\"text-align: right;\">\n",
       "      <th></th>\n",
       "      <th>annual_inc_joint</th>\n",
       "      <th>total_pymnt</th>\n",
       "      <th>int_rate</th>\n",
       "      <th>addr_state</th>\n",
       "      <th>hardship_status</th>\n",
       "      <th>title</th>\n",
       "    </tr>\n",
       "  </thead>\n",
       "  <tbody>\n",
       "    <tr>\n",
       "      <th>0</th>\n",
       "      <td>NaN</td>\n",
       "      <td>4421.723917</td>\n",
       "      <td>13.99</td>\n",
       "      <td>PA</td>\n",
       "      <td>NaN</td>\n",
       "      <td>Debt consolidation</td>\n",
       "    </tr>\n",
       "    <tr>\n",
       "      <th>1</th>\n",
       "      <td>NaN</td>\n",
       "      <td>25679.660000</td>\n",
       "      <td>11.99</td>\n",
       "      <td>SD</td>\n",
       "      <td>NaN</td>\n",
       "      <td>Business</td>\n",
       "    </tr>\n",
       "    <tr>\n",
       "      <th>2</th>\n",
       "      <td>71000.0</td>\n",
       "      <td>22705.924294</td>\n",
       "      <td>10.78</td>\n",
       "      <td>IL</td>\n",
       "      <td>NaN</td>\n",
       "      <td>NaN</td>\n",
       "    </tr>\n",
       "    <tr>\n",
       "      <th>3</th>\n",
       "      <td>NaN</td>\n",
       "      <td>31464.010000</td>\n",
       "      <td>14.85</td>\n",
       "      <td>NJ</td>\n",
       "      <td>NaN</td>\n",
       "      <td>Debt consolidation</td>\n",
       "    </tr>\n",
       "    <tr>\n",
       "      <th>4</th>\n",
       "      <td>NaN</td>\n",
       "      <td>11740.500000</td>\n",
       "      <td>22.45</td>\n",
       "      <td>PA</td>\n",
       "      <td>NaN</td>\n",
       "      <td>Major purchase</td>\n",
       "    </tr>\n",
       "  </tbody>\n",
       "</table>\n",
       "</div>"
      ],
      "text/plain": [
       "   annual_inc_joint   total_pymnt  int_rate addr_state hardship_status  \\\n",
       "0               NaN   4421.723917     13.99         PA             NaN   \n",
       "1               NaN  25679.660000     11.99         SD             NaN   \n",
       "2           71000.0  22705.924294     10.78         IL             NaN   \n",
       "3               NaN  31464.010000     14.85         NJ             NaN   \n",
       "4               NaN  11740.500000     22.45         PA             NaN   \n",
       "\n",
       "                title  \n",
       "0  Debt consolidation  \n",
       "1            Business  \n",
       "2                 NaN  \n",
       "3  Debt consolidation  \n",
       "4      Major purchase  "
      ]
     },
     "metadata": {},
     "output_type": "display_data"
    }
   ],
   "source": [
    "cols = ['annual_inc_joint', 'total_pymnt', 'int_rate','addr_state', 'hardship_status', 'title']\n",
    "filtered_data = data[cols]\n",
    "display(filtered_data.head())"
   ]
  },
  {
   "cell_type": "code",
   "execution_count": 5,
   "id": "8e027dcb",
   "metadata": {},
   "outputs": [
    {
     "data": {
      "text/plain": [
       "(2260701, 6)"
      ]
     },
     "execution_count": 5,
     "metadata": {},
     "output_type": "execute_result"
    }
   ],
   "source": [
    "filtered_data.shape"
   ]
  },
  {
   "cell_type": "code",
   "execution_count": 6,
   "id": "29e38509",
   "metadata": {},
   "outputs": [
    {
     "name": "stdout",
     "output_type": "stream",
     "text": [
      "addr_state  unique value count ->  51\n",
      "hardship_status  unique value count ->  3\n",
      "title  unique value count ->  63154\n"
     ]
    }
   ],
   "source": [
    "for col in filtered_data.columns:\n",
    "    if filtered_data[col].dtype == 'object':\n",
    "        print(col, ' unique value count -> ',filtered_data[col].nunique())"
   ]
  },
  {
   "cell_type": "raw",
   "id": "5ed007e6",
   "metadata": {},
   "source": [
    "I see the unique value counts in title are large. For the sake of this being an assessment and not live production, I am going to choose a simpler categorical column."
   ]
  },
  {
   "cell_type": "code",
   "execution_count": 7,
   "id": "6d9fc0df",
   "metadata": {},
   "outputs": [],
   "source": [
    "cols.remove('title')\n",
    "cols.append('sub_grade')\n",
    "filtered_data = data[cols]"
   ]
  },
  {
   "cell_type": "code",
   "execution_count": 8,
   "id": "247a105e",
   "metadata": {},
   "outputs": [
    {
     "name": "stdout",
     "output_type": "stream",
     "text": [
      "addr_state  unique value count ->  51\n",
      "hardship_status  unique value count ->  3\n",
      "sub_grade  unique value count ->  35\n"
     ]
    }
   ],
   "source": [
    "for col in filtered_data.columns:\n",
    "    if filtered_data[col].dtype == 'object':\n",
    "        print(col, ' unique value count -> ',filtered_data[col].nunique())"
   ]
  },
  {
   "cell_type": "raw",
   "id": "48d405fc",
   "metadata": {},
   "source": [
    "I will note these columns later for one-hot encoding. Now lets exploer the numerical data"
   ]
  },
  {
   "cell_type": "code",
   "execution_count": 9,
   "id": "4385a0a7",
   "metadata": {},
   "outputs": [
    {
     "data": {
      "text/html": [
       "<div>\n",
       "<style scoped>\n",
       "    .dataframe tbody tr th:only-of-type {\n",
       "        vertical-align: middle;\n",
       "    }\n",
       "\n",
       "    .dataframe tbody tr th {\n",
       "        vertical-align: top;\n",
       "    }\n",
       "\n",
       "    .dataframe thead th {\n",
       "        text-align: right;\n",
       "    }\n",
       "</style>\n",
       "<table border=\"1\" class=\"dataframe\">\n",
       "  <thead>\n",
       "    <tr style=\"text-align: right;\">\n",
       "      <th></th>\n",
       "      <th>annual_inc_joint</th>\n",
       "      <th>total_pymnt</th>\n",
       "      <th>int_rate</th>\n",
       "    </tr>\n",
       "  </thead>\n",
       "  <tbody>\n",
       "    <tr>\n",
       "      <th>count</th>\n",
       "      <td>1.207100e+05</td>\n",
       "      <td>2.260668e+06</td>\n",
       "      <td>2.260668e+06</td>\n",
       "    </tr>\n",
       "    <tr>\n",
       "      <th>mean</th>\n",
       "      <td>1.236246e+05</td>\n",
       "      <td>1.208256e+04</td>\n",
       "      <td>1.309283e+01</td>\n",
       "    </tr>\n",
       "    <tr>\n",
       "      <th>std</th>\n",
       "      <td>7.416135e+04</td>\n",
       "      <td>9.901383e+03</td>\n",
       "      <td>4.832138e+00</td>\n",
       "    </tr>\n",
       "    <tr>\n",
       "      <th>min</th>\n",
       "      <td>5.693510e+03</td>\n",
       "      <td>0.000000e+00</td>\n",
       "      <td>5.310000e+00</td>\n",
       "    </tr>\n",
       "    <tr>\n",
       "      <th>25%</th>\n",
       "      <td>8.340000e+04</td>\n",
       "      <td>4.546458e+03</td>\n",
       "      <td>9.490000e+00</td>\n",
       "    </tr>\n",
       "    <tr>\n",
       "      <th>50%</th>\n",
       "      <td>1.100000e+05</td>\n",
       "      <td>9.329720e+03</td>\n",
       "      <td>1.262000e+01</td>\n",
       "    </tr>\n",
       "    <tr>\n",
       "      <th>75%</th>\n",
       "      <td>1.479950e+05</td>\n",
       "      <td>1.694087e+04</td>\n",
       "      <td>1.599000e+01</td>\n",
       "    </tr>\n",
       "    <tr>\n",
       "      <th>max</th>\n",
       "      <td>7.874821e+06</td>\n",
       "      <td>6.329688e+04</td>\n",
       "      <td>3.099000e+01</td>\n",
       "    </tr>\n",
       "  </tbody>\n",
       "</table>\n",
       "</div>"
      ],
      "text/plain": [
       "       annual_inc_joint   total_pymnt      int_rate\n",
       "count      1.207100e+05  2.260668e+06  2.260668e+06\n",
       "mean       1.236246e+05  1.208256e+04  1.309283e+01\n",
       "std        7.416135e+04  9.901383e+03  4.832138e+00\n",
       "min        5.693510e+03  0.000000e+00  5.310000e+00\n",
       "25%        8.340000e+04  4.546458e+03  9.490000e+00\n",
       "50%        1.100000e+05  9.329720e+03  1.262000e+01\n",
       "75%        1.479950e+05  1.694087e+04  1.599000e+01\n",
       "max        7.874821e+06  6.329688e+04  3.099000e+01"
      ]
     },
     "execution_count": 9,
     "metadata": {},
     "output_type": "execute_result"
    }
   ],
   "source": [
    "filtered_data.describe()"
   ]
  },
  {
   "cell_type": "code",
   "execution_count": 10,
   "id": "ba36fb72",
   "metadata": {},
   "outputs": [
    {
     "data": {
      "image/png": "[encoded data removed]",
      "text/plain": [
       "<Figure size 2000x1500 with 4 Axes>"
      ]
     },
     "metadata": {},
     "output_type": "display_data"
    }
   ],
   "source": [
    "#create a visualization of histograms for all columns to see if any are tailed heavy or uniformly distributed\n",
    "filtered_data.hist(bins = 20,figsize = (20,15))\n",
    "plt.show()"
   ]
  },
  {
   "cell_type": "markdown",
   "id": "19bcae6b",
   "metadata": {},
   "source": [
    "Based on the info describe function and the graphs a few things are clear:\n",
    "1. All the numerical categories chosen are using a different scale so this has to be standardized\n",
    "2. Looks like annual_joint_inc is missing some values. Due to the distribution itll make most sense to replace nulls here with the mean or median since they are similar\n",
    "\n",
    "Lets take a look at nulls in our other numerical and cat columns"
   ]
  },
  {
   "cell_type": "code",
   "execution_count": 11,
   "id": "217610ed",
   "metadata": {},
   "outputs": [
    {
     "name": "stdout",
     "output_type": "stream",
     "text": [
      "annual_inc_joint  Null Value Count ->  2139991 \t\t\tNull Value Percentage ->  94.66050574578416\n",
      "total_pymnt  Null Value Count ->  33 \t\t\tNull Value Percentage ->  0.0014597242182845054\n",
      "int_rate  Null Value Count ->  33 \t\t\tNull Value Percentage ->  0.0014597242182845054\n",
      "addr_state  Null Value Count ->  33 \t\t\tNull Value Percentage ->  0.0014597242182845054\n",
      "hardship_status  Null Value Count ->  2249784 \t\t\tNull Value Percentage ->  99.51709668815116\n",
      "sub_grade  Null Value Count ->  33 \t\t\tNull Value Percentage ->  0.0014597242182845054\n"
     ]
    }
   ],
   "source": [
    "for col in filtered_data.columns:\n",
    "    print(col,' Null Value Count -> ',filtered_data[col].isnull().sum(), '\\t\\t\\tNull Value Percentage -> ', (filtered_data[col].isnull().sum()/filtered_data.shape[0])*100)"
   ]
  },
  {
   "cell_type": "markdown",
   "id": "baadebd8",
   "metadata": {},
   "source": [
    "Seems like a lot of nulls in the annual_inc_join and hardship_status columns. Lets verify this"
   ]
  },
  {
   "cell_type": "code",
   "execution_count": 12,
   "id": "8b7ece1d",
   "metadata": {},
   "outputs": [
    {
     "data": {
      "text/html": [
       "<div>\n",
       "<style scoped>\n",
       "    .dataframe tbody tr th:only-of-type {\n",
       "        vertical-align: middle;\n",
       "    }\n",
       "\n",
       "    .dataframe tbody tr th {\n",
       "        vertical-align: top;\n",
       "    }\n",
       "\n",
       "    .dataframe thead th {\n",
       "        text-align: right;\n",
       "    }\n",
       "</style>\n",
       "<table border=\"1\" class=\"dataframe\">\n",
       "  <thead>\n",
       "    <tr style=\"text-align: right;\">\n",
       "      <th></th>\n",
       "      <th>annual_inc_joint</th>\n",
       "    </tr>\n",
       "  </thead>\n",
       "  <tbody>\n",
       "    <tr>\n",
       "      <th>0</th>\n",
       "      <td>NaN</td>\n",
       "    </tr>\n",
       "    <tr>\n",
       "      <th>1</th>\n",
       "      <td>NaN</td>\n",
       "    </tr>\n",
       "    <tr>\n",
       "      <th>3</th>\n",
       "      <td>NaN</td>\n",
       "    </tr>\n",
       "    <tr>\n",
       "      <th>4</th>\n",
       "      <td>NaN</td>\n",
       "    </tr>\n",
       "    <tr>\n",
       "      <th>5</th>\n",
       "      <td>NaN</td>\n",
       "    </tr>\n",
       "    <tr>\n",
       "      <th>...</th>\n",
       "      <td>...</td>\n",
       "    </tr>\n",
       "    <tr>\n",
       "      <th>2260696</th>\n",
       "      <td>NaN</td>\n",
       "    </tr>\n",
       "    <tr>\n",
       "      <th>2260697</th>\n",
       "      <td>NaN</td>\n",
       "    </tr>\n",
       "    <tr>\n",
       "      <th>2260698</th>\n",
       "      <td>NaN</td>\n",
       "    </tr>\n",
       "    <tr>\n",
       "      <th>2260699</th>\n",
       "      <td>NaN</td>\n",
       "    </tr>\n",
       "    <tr>\n",
       "      <th>2260700</th>\n",
       "      <td>NaN</td>\n",
       "    </tr>\n",
       "  </tbody>\n",
       "</table>\n",
       "<p>2139991 rows × 1 columns</p>\n",
       "</div>"
      ],
      "text/plain": [
       "         annual_inc_joint\n",
       "0                     NaN\n",
       "1                     NaN\n",
       "3                     NaN\n",
       "4                     NaN\n",
       "5                     NaN\n",
       "...                   ...\n",
       "2260696               NaN\n",
       "2260697               NaN\n",
       "2260698               NaN\n",
       "2260699               NaN\n",
       "2260700               NaN\n",
       "\n",
       "[2139991 rows x 1 columns]"
      ]
     },
     "execution_count": 12,
     "metadata": {},
     "output_type": "execute_result"
    }
   ],
   "source": [
    "filtered_data[filtered_data['annual_inc_joint'].isnull() == 1][['annual_inc_joint']]"
   ]
  },
  {
   "cell_type": "code",
   "execution_count": 13,
   "id": "e0550a25",
   "metadata": {},
   "outputs": [
    {
     "data": {
      "text/html": [
       "<div>\n",
       "<style scoped>\n",
       "    .dataframe tbody tr th:only-of-type {\n",
       "        vertical-align: middle;\n",
       "    }\n",
       "\n",
       "    .dataframe tbody tr th {\n",
       "        vertical-align: top;\n",
       "    }\n",
       "\n",
       "    .dataframe thead th {\n",
       "        text-align: right;\n",
       "    }\n",
       "</style>\n",
       "<table border=\"1\" class=\"dataframe\">\n",
       "  <thead>\n",
       "    <tr style=\"text-align: right;\">\n",
       "      <th></th>\n",
       "      <th>hardship_status</th>\n",
       "    </tr>\n",
       "  </thead>\n",
       "  <tbody>\n",
       "    <tr>\n",
       "      <th>0</th>\n",
       "      <td>NaN</td>\n",
       "    </tr>\n",
       "    <tr>\n",
       "      <th>1</th>\n",
       "      <td>NaN</td>\n",
       "    </tr>\n",
       "    <tr>\n",
       "      <th>2</th>\n",
       "      <td>NaN</td>\n",
       "    </tr>\n",
       "    <tr>\n",
       "      <th>3</th>\n",
       "      <td>NaN</td>\n",
       "    </tr>\n",
       "    <tr>\n",
       "      <th>4</th>\n",
       "      <td>NaN</td>\n",
       "    </tr>\n",
       "    <tr>\n",
       "      <th>...</th>\n",
       "      <td>...</td>\n",
       "    </tr>\n",
       "    <tr>\n",
       "      <th>2260696</th>\n",
       "      <td>NaN</td>\n",
       "    </tr>\n",
       "    <tr>\n",
       "      <th>2260697</th>\n",
       "      <td>NaN</td>\n",
       "    </tr>\n",
       "    <tr>\n",
       "      <th>2260698</th>\n",
       "      <td>NaN</td>\n",
       "    </tr>\n",
       "    <tr>\n",
       "      <th>2260699</th>\n",
       "      <td>NaN</td>\n",
       "    </tr>\n",
       "    <tr>\n",
       "      <th>2260700</th>\n",
       "      <td>NaN</td>\n",
       "    </tr>\n",
       "  </tbody>\n",
       "</table>\n",
       "<p>2249784 rows × 1 columns</p>\n",
       "</div>"
      ],
      "text/plain": [
       "        hardship_status\n",
       "0                   NaN\n",
       "1                   NaN\n",
       "2                   NaN\n",
       "3                   NaN\n",
       "4                   NaN\n",
       "...                 ...\n",
       "2260696             NaN\n",
       "2260697             NaN\n",
       "2260698             NaN\n",
       "2260699             NaN\n",
       "2260700             NaN\n",
       "\n",
       "[2249784 rows x 1 columns]"
      ]
     },
     "execution_count": 13,
     "metadata": {},
     "output_type": "execute_result"
    }
   ],
   "source": [
    "filtered_data[filtered_data['hardship_status'].isnull() == 1][['hardship_status']]"
   ]
  },
  {
   "cell_type": "code",
   "execution_count": 14,
   "id": "9455a821",
   "metadata": {},
   "outputs": [
    {
     "data": {
      "text/plain": [
       "hardship_status\n",
       "COMPLETED    7819\n",
       "BROKEN       2266\n",
       "ACTIVE        832\n",
       "Name: count, dtype: int64"
      ]
     },
     "execution_count": 14,
     "metadata": {},
     "output_type": "execute_result"
    }
   ],
   "source": [
    "filtered_data['hardship_status'].value_counts()"
   ]
  },
  {
   "cell_type": "code",
   "execution_count": 15,
   "id": "4a8f3866",
   "metadata": {},
   "outputs": [
    {
     "data": {
      "text/plain": [
       "True"
      ]
     },
     "execution_count": 15,
     "metadata": {},
     "output_type": "execute_result"
    }
   ],
   "source": [
    "#Making sure sum of distinct values is same as total values - nulls\n",
    "filtered_data['hardship_status'].value_counts().sum() == filtered_data.shape[0]-filtered_data['hardship_status'].isnull().sum()"
   ]
  },
  {
   "cell_type": "markdown",
   "id": "7ac42966",
   "metadata": {},
   "source": [
    "# Pipeline"
   ]
  },
  {
   "cell_type": "code",
   "execution_count": 30,
   "id": "9d4130eb",
   "metadata": {},
   "outputs": [],
   "source": [
    "from sklearn.pipeline import Pipeline\n",
    "from sklearn.impute import SimpleImputer\n",
    "from sklearn.preprocessing import StandardScaler,LabelEncoder\n",
    "from sklearn.compose import ColumnTransformer\n",
    "import seaborn as sns"
   ]
  },
  {
   "cell_type": "code",
   "execution_count": 19,
   "id": "078d9632",
   "metadata": {},
   "outputs": [],
   "source": [
    "#Instead of hardcoding I am making this automated. \n",
    "#If this were a production pipeline, I'd have more checks as objects can also be dates & other non-numerical types\n",
    "#But because i know the 6 selected cols this works\n",
    "num_cols = []\n",
    "cat_cols = []\n",
    "for col in filtered_data.columns:\n",
    "    if filtered_data[col].dtype == 'object':\n",
    "        cat_cols.append(col)\n",
    "    else:\n",
    "        num_cols.append(col)"
   ]
  },
  {
   "cell_type": "code",
   "execution_count": 21,
   "id": "a7002419",
   "metadata": {},
   "outputs": [
    {
     "name": "stderr",
     "output_type": "stream",
     "text": [
      "/var/folders/0b/fh1gqtbn05g9vh4nkdbt85880000gp/T/ipykernel_52551/1295906332.py:2: SettingWithCopyWarning: \n",
      "A value is trying to be set on a copy of a slice from a DataFrame.\n",
      "Try using .loc[row_indexer,col_indexer] = value instead\n",
      "\n",
      "See the caveats in the documentation: https://pandas.pydata.org/pandas-docs/stable/user_guide/indexing.html#returning-a-view-versus-a-copy\n",
      "  filtered_data[col] = LabelEncoder().fit_transform(filtered_data[col])\n",
      "/var/folders/0b/fh1gqtbn05g9vh4nkdbt85880000gp/T/ipykernel_52551/1295906332.py:2: SettingWithCopyWarning: \n",
      "A value is trying to be set on a copy of a slice from a DataFrame.\n",
      "Try using .loc[row_indexer,col_indexer] = value instead\n",
      "\n",
      "See the caveats in the documentation: https://pandas.pydata.org/pandas-docs/stable/user_guide/indexing.html#returning-a-view-versus-a-copy\n",
      "  filtered_data[col] = LabelEncoder().fit_transform(filtered_data[col])\n",
      "/var/folders/0b/fh1gqtbn05g9vh4nkdbt85880000gp/T/ipykernel_52551/1295906332.py:2: SettingWithCopyWarning: \n",
      "A value is trying to be set on a copy of a slice from a DataFrame.\n",
      "Try using .loc[row_indexer,col_indexer] = value instead\n",
      "\n",
      "See the caveats in the documentation: https://pandas.pydata.org/pandas-docs/stable/user_guide/indexing.html#returning-a-view-versus-a-copy\n",
      "  filtered_data[col] = LabelEncoder().fit_transform(filtered_data[col])\n"
     ]
    }
   ],
   "source": [
    "for col in cat_cols:\n",
    "    filtered_data[col] = LabelEncoder().fit_transform(filtered_data[col])"
   ]
  },
  {
   "cell_type": "code",
   "execution_count": 22,
   "id": "c8a8b0be",
   "metadata": {},
   "outputs": [
    {
     "data": {
      "text/html": [
       "<div>\n",
       "<style scoped>\n",
       "    .dataframe tbody tr th:only-of-type {\n",
       "        vertical-align: middle;\n",
       "    }\n",
       "\n",
       "    .dataframe tbody tr th {\n",
       "        vertical-align: top;\n",
       "    }\n",
       "\n",
       "    .dataframe thead th {\n",
       "        text-align: right;\n",
       "    }\n",
       "</style>\n",
       "<table border=\"1\" class=\"dataframe\">\n",
       "  <thead>\n",
       "    <tr style=\"text-align: right;\">\n",
       "      <th></th>\n",
       "      <th>annual_inc_joint</th>\n",
       "      <th>total_pymnt</th>\n",
       "      <th>int_rate</th>\n",
       "      <th>addr_state</th>\n",
       "      <th>hardship_status</th>\n",
       "      <th>sub_grade</th>\n",
       "    </tr>\n",
       "  </thead>\n",
       "  <tbody>\n",
       "    <tr>\n",
       "      <th>0</th>\n",
       "      <td>NaN</td>\n",
       "      <td>4421.723917</td>\n",
       "      <td>13.99</td>\n",
       "      <td>38</td>\n",
       "      <td>3</td>\n",
       "      <td>13</td>\n",
       "    </tr>\n",
       "    <tr>\n",
       "      <th>1</th>\n",
       "      <td>NaN</td>\n",
       "      <td>25679.660000</td>\n",
       "      <td>11.99</td>\n",
       "      <td>41</td>\n",
       "      <td>3</td>\n",
       "      <td>10</td>\n",
       "    </tr>\n",
       "    <tr>\n",
       "      <th>2</th>\n",
       "      <td>71000.0</td>\n",
       "      <td>22705.924294</td>\n",
       "      <td>10.78</td>\n",
       "      <td>14</td>\n",
       "      <td>3</td>\n",
       "      <td>8</td>\n",
       "    </tr>\n",
       "    <tr>\n",
       "      <th>3</th>\n",
       "      <td>NaN</td>\n",
       "      <td>31464.010000</td>\n",
       "      <td>14.85</td>\n",
       "      <td>31</td>\n",
       "      <td>3</td>\n",
       "      <td>14</td>\n",
       "    </tr>\n",
       "    <tr>\n",
       "      <th>4</th>\n",
       "      <td>NaN</td>\n",
       "      <td>11740.500000</td>\n",
       "      <td>22.45</td>\n",
       "      <td>38</td>\n",
       "      <td>3</td>\n",
       "      <td>25</td>\n",
       "    </tr>\n",
       "  </tbody>\n",
       "</table>\n",
       "</div>"
      ],
      "text/plain": [
       "   annual_inc_joint   total_pymnt  int_rate  addr_state  hardship_status  \\\n",
       "0               NaN   4421.723917     13.99          38                3   \n",
       "1               NaN  25679.660000     11.99          41                3   \n",
       "2           71000.0  22705.924294     10.78          14                3   \n",
       "3               NaN  31464.010000     14.85          31                3   \n",
       "4               NaN  11740.500000     22.45          38                3   \n",
       "\n",
       "   sub_grade  \n",
       "0         13  \n",
       "1         10  \n",
       "2          8  \n",
       "3         14  \n",
       "4         25  "
      ]
     },
     "metadata": {},
     "output_type": "display_data"
    }
   ],
   "source": [
    "display(filtered_data.head())"
   ]
  },
  {
   "cell_type": "code",
   "execution_count": 23,
   "id": "4f61ae11",
   "metadata": {},
   "outputs": [],
   "source": [
    "#This numerical piepline will fill nulls in numerical columns with median and scale everything as well\n",
    "num_pipeline = Pipeline([\n",
    "        ('imputer', SimpleImputer(strategy=\"median\")),\n",
    "        ('std_scaler', StandardScaler()),\n",
    "    ])\n",
    "\n",
    "#I am creating a full peipleine that also encodes the categorical variables including the nulls\n",
    "#separated by specific cols\n",
    "full_pipeline = ColumnTransformer([\n",
    "        (\"num\", num_pipeline, num_cols),\n",
    "    ])"
   ]
  },
  {
   "cell_type": "code",
   "execution_count": 24,
   "id": "90696737",
   "metadata": {},
   "outputs": [],
   "source": [
    "data_transformed = full_pipeline.fit_transform(filtered_data)"
   ]
  },
  {
   "cell_type": "code",
   "execution_count": 25,
   "id": "d028b9f9",
   "metadata": {},
   "outputs": [],
   "source": [
    "data_transformed = pd.DataFrame({\n",
    "                            num_cols[0]: data_transformed[:, 0],\n",
    "                            num_cols[1]: data_transformed[:, 1],\n",
    "                            num_cols[2]: data_transformed[:, 2],\n",
    "\n",
    "                            })"
   ]
  },
  {
   "cell_type": "code",
   "execution_count": 26,
   "id": "8323bd0b",
   "metadata": {},
   "outputs": [],
   "source": [
    "for col in cat_cols:\n",
    "    data_transformed[col] = filtered_data[col]"
   ]
  },
  {
   "cell_type": "code",
   "execution_count": 27,
   "id": "de5ae3a7",
   "metadata": {},
   "outputs": [
    {
     "data": {
      "text/html": [
       "<div>\n",
       "<style scoped>\n",
       "    .dataframe tbody tr th:only-of-type {\n",
       "        vertical-align: middle;\n",
       "    }\n",
       "\n",
       "    .dataframe tbody tr th {\n",
       "        vertical-align: top;\n",
       "    }\n",
       "\n",
       "    .dataframe thead th {\n",
       "        text-align: right;\n",
       "    }\n",
       "</style>\n",
       "<table border=\"1\" class=\"dataframe\">\n",
       "  <thead>\n",
       "    <tr style=\"text-align: right;\">\n",
       "      <th></th>\n",
       "      <th>annual_inc_joint</th>\n",
       "      <th>total_pymnt</th>\n",
       "      <th>int_rate</th>\n",
       "      <th>addr_state</th>\n",
       "      <th>hardship_status</th>\n",
       "      <th>sub_grade</th>\n",
       "    </tr>\n",
       "  </thead>\n",
       "  <tbody>\n",
       "    <tr>\n",
       "      <th>0</th>\n",
       "      <td>-0.041790</td>\n",
       "      <td>-0.773715</td>\n",
       "      <td>0.185670</td>\n",
       "      <td>38</td>\n",
       "      <td>3</td>\n",
       "      <td>13</td>\n",
       "    </tr>\n",
       "    <tr>\n",
       "      <th>1</th>\n",
       "      <td>-0.041790</td>\n",
       "      <td>1.373267</td>\n",
       "      <td>-0.228228</td>\n",
       "      <td>41</td>\n",
       "      <td>3</td>\n",
       "      <td>10</td>\n",
       "    </tr>\n",
       "    <tr>\n",
       "      <th>2</th>\n",
       "      <td>-2.282107</td>\n",
       "      <td>1.072929</td>\n",
       "      <td>-0.478637</td>\n",
       "      <td>14</td>\n",
       "      <td>3</td>\n",
       "      <td>8</td>\n",
       "    </tr>\n",
       "    <tr>\n",
       "      <th>3</th>\n",
       "      <td>-0.041790</td>\n",
       "      <td>1.957467</td>\n",
       "      <td>0.363647</td>\n",
       "      <td>31</td>\n",
       "      <td>3</td>\n",
       "      <td>14</td>\n",
       "    </tr>\n",
       "    <tr>\n",
       "      <th>4</th>\n",
       "      <td>-0.041790</td>\n",
       "      <td>-0.034543</td>\n",
       "      <td>1.936461</td>\n",
       "      <td>38</td>\n",
       "      <td>3</td>\n",
       "      <td>25</td>\n",
       "    </tr>\n",
       "  </tbody>\n",
       "</table>\n",
       "</div>"
      ],
      "text/plain": [
       "   annual_inc_joint  total_pymnt  int_rate  addr_state  hardship_status  \\\n",
       "0         -0.041790    -0.773715  0.185670          38                3   \n",
       "1         -0.041790     1.373267 -0.228228          41                3   \n",
       "2         -2.282107     1.072929 -0.478637          14                3   \n",
       "3         -0.041790     1.957467  0.363647          31                3   \n",
       "4         -0.041790    -0.034543  1.936461          38                3   \n",
       "\n",
       "   sub_grade  \n",
       "0         13  \n",
       "1         10  \n",
       "2          8  \n",
       "3         14  \n",
       "4         25  "
      ]
     },
     "metadata": {},
     "output_type": "display_data"
    }
   ],
   "source": [
    "display(data_transformed.head())"
   ]
  },
  {
   "cell_type": "markdown",
   "id": "eb40eb96",
   "metadata": {},
   "source": [
    "# Check the Data"
   ]
  },
  {
   "cell_type": "code",
   "execution_count": 31,
   "id": "207c8bea",
   "metadata": {},
   "outputs": [
    {
     "data": {
      "image/png": "[encoded data removed]",
      "text/plain": [
       "<Figure size 1500x800 with 3 Axes>"
      ]
     },
     "metadata": {},
     "output_type": "display_data"
    }
   ],
   "source": [
    "plt.figure(figsize=(15, 8))\n",
    "for i, column in enumerate(num_cols, 1):\n",
    "    plt.subplot(1, len(num_cols), i)\n",
    "    sns.histplot(data_transformed[column], bins=20, kde=True)\n",
    "    plt.title(f'Histogram for {column} (Preprocessed)')\n",
    "    plt.xlabel(column)\n",
    "    plt.ylabel('Frequency')\n",
    "plt.tight_layout()\n",
    "plt.show()"
   ]
  },
  {
   "cell_type": "code",
   "execution_count": 32,
   "id": "97030fd8",
   "metadata": {},
   "outputs": [
    {
     "data": {
      "text/plain": [
       "annual_inc_joint    0\n",
       "total_pymnt         0\n",
       "int_rate            0\n",
       "addr_state          0\n",
       "hardship_status     0\n",
       "sub_grade           0\n",
       "dtype: int64"
      ]
     },
     "execution_count": 32,
     "metadata": {},
     "output_type": "execute_result"
    }
   ],
   "source": [
    "data_transformed.isnull().sum()"
   ]
  },
  {
   "cell_type": "code",
   "execution_count": 33,
   "id": "e38a86b9",
   "metadata": {},
   "outputs": [
    {
     "data": {
      "text/html": [
       "<div>\n",
       "<style scoped>\n",
       "    .dataframe tbody tr th:only-of-type {\n",
       "        vertical-align: middle;\n",
       "    }\n",
       "\n",
       "    .dataframe tbody tr th {\n",
       "        vertical-align: top;\n",
       "    }\n",
       "\n",
       "    .dataframe thead th {\n",
       "        text-align: right;\n",
       "    }\n",
       "</style>\n",
       "<table border=\"1\" class=\"dataframe\">\n",
       "  <thead>\n",
       "    <tr style=\"text-align: right;\">\n",
       "      <th></th>\n",
       "      <th>annual_inc_joint</th>\n",
       "      <th>total_pymnt</th>\n",
       "      <th>int_rate</th>\n",
       "      <th>addr_state</th>\n",
       "      <th>hardship_status</th>\n",
       "      <th>sub_grade</th>\n",
       "    </tr>\n",
       "  </thead>\n",
       "  <tbody>\n",
       "    <tr>\n",
       "      <th>count</th>\n",
       "      <td>2.260701e+06</td>\n",
       "      <td>2.260701e+06</td>\n",
       "      <td>2.260701e+06</td>\n",
       "      <td>2.260701e+06</td>\n",
       "      <td>2.260701e+06</td>\n",
       "      <td>2.260701e+06</td>\n",
       "    </tr>\n",
       "    <tr>\n",
       "      <th>mean</th>\n",
       "      <td>5.012249e-15</td>\n",
       "      <td>-7.988801e-16</td>\n",
       "      <td>-1.839144e-15</td>\n",
       "      <td>2.314744e+01</td>\n",
       "      <td>2.993433e+00</td>\n",
       "      <td>1.028019e+01</td>\n",
       "    </tr>\n",
       "    <tr>\n",
       "      <th>std</th>\n",
       "      <td>1.000000e+00</td>\n",
       "      <td>1.000000e+00</td>\n",
       "      <td>1.000000e+00</td>\n",
       "      <td>1.505247e+01</td>\n",
       "      <td>1.036203e-01</td>\n",
       "      <td>6.301034e+00</td>\n",
       "    </tr>\n",
       "    <tr>\n",
       "      <th>min</th>\n",
       "      <td>-6.033574e+00</td>\n",
       "      <td>-1.220294e+00</td>\n",
       "      <td>-1.610649e+00</td>\n",
       "      <td>0.000000e+00</td>\n",
       "      <td>0.000000e+00</td>\n",
       "      <td>0.000000e+00</td>\n",
       "    </tr>\n",
       "    <tr>\n",
       "      <th>25%</th>\n",
       "      <td>-4.178976e-02</td>\n",
       "      <td>-7.610976e-01</td>\n",
       "      <td>-7.456014e-01</td>\n",
       "      <td>9.000000e+00</td>\n",
       "      <td>3.000000e+00</td>\n",
       "      <td>6.000000e+00</td>\n",
       "    </tr>\n",
       "    <tr>\n",
       "      <th>50%</th>\n",
       "      <td>-4.178976e-02</td>\n",
       "      <td>-2.780234e-01</td>\n",
       "      <td>-9.785021e-02</td>\n",
       "      <td>2.300000e+01</td>\n",
       "      <td>3.000000e+00</td>\n",
       "      <td>1.000000e+01</td>\n",
       "    </tr>\n",
       "    <tr>\n",
       "      <th>75%</th>\n",
       "      <td>-4.178976e-02</td>\n",
       "      <td>4.906594e-01</td>\n",
       "      <td>5.995688e-01</td>\n",
       "      <td>3.500000e+01</td>\n",
       "      <td>3.000000e+00</td>\n",
       "      <td>1.400000e+01</td>\n",
       "    </tr>\n",
       "    <tr>\n",
       "      <th>max</th>\n",
       "      <td>4.460008e+02</td>\n",
       "      <td>5.172481e+00</td>\n",
       "      <td>3.703808e+00</td>\n",
       "      <td>5.100000e+01</td>\n",
       "      <td>3.000000e+00</td>\n",
       "      <td>3.500000e+01</td>\n",
       "    </tr>\n",
       "  </tbody>\n",
       "</table>\n",
       "</div>"
      ],
      "text/plain": [
       "       annual_inc_joint   total_pymnt      int_rate    addr_state  \\\n",
       "count      2.260701e+06  2.260701e+06  2.260701e+06  2.260701e+06   \n",
       "mean       5.012249e-15 -7.988801e-16 -1.839144e-15  2.314744e+01   \n",
       "std        1.000000e+00  1.000000e+00  1.000000e+00  1.505247e+01   \n",
       "min       -6.033574e+00 -1.220294e+00 -1.610649e+00  0.000000e+00   \n",
       "25%       -4.178976e-02 -7.610976e-01 -7.456014e-01  9.000000e+00   \n",
       "50%       -4.178976e-02 -2.780234e-01 -9.785021e-02  2.300000e+01   \n",
       "75%       -4.178976e-02  4.906594e-01  5.995688e-01  3.500000e+01   \n",
       "max        4.460008e+02  5.172481e+00  3.703808e+00  5.100000e+01   \n",
       "\n",
       "       hardship_status     sub_grade  \n",
       "count     2.260701e+06  2.260701e+06  \n",
       "mean      2.993433e+00  1.028019e+01  \n",
       "std       1.036203e-01  6.301034e+00  \n",
       "min       0.000000e+00  0.000000e+00  \n",
       "25%       3.000000e+00  6.000000e+00  \n",
       "50%       3.000000e+00  1.000000e+01  \n",
       "75%       3.000000e+00  1.400000e+01  \n",
       "max       3.000000e+00  3.500000e+01  "
      ]
     },
     "execution_count": 33,
     "metadata": {},
     "output_type": "execute_result"
    }
   ],
   "source": [
    "data_transformed.describe()"
   ]
  },
  {
   "cell_type": "code",
   "execution_count": 34,
   "id": "df0db651",
   "metadata": {},
   "outputs": [
    {
     "name": "stdout",
     "output_type": "stream",
     "text": [
      "addr_state  Unique Replacement Check -> True\n",
      "hardship_status  Unique Replacement Check -> True\n",
      "sub_grade  Unique Replacement Check -> True\n"
     ]
    }
   ],
   "source": [
    "for col in cat_cols:\n",
    "    print(col,' Unique Replacement Check ->', filtered_data[col].nunique() == data_transformed[col].nunique())"
   ]
  },
  {
   "cell_type": "markdown",
   "id": "d79ba33d",
   "metadata": {},
   "source": [
    "Standard Deviation of 1 for all original numerical values means that this is properly scaled. Nice! And it seems the categoricals are taken care of too as the same # of unique values exist before and after the encoding"
   ]
  },
  {
   "cell_type": "markdown",
   "id": "5a022db8",
   "metadata": {},
   "source": [
    "# Takeaways and Reflection"
   ]
  },
  {
   "cell_type": "markdown",
   "id": "f6ef4405",
   "metadata": {},
   "source": [
    "This data was quite large so randomly slecting the numerical and categorical attributes was a little tricky as I had to check if the chosen ones were too large of a task for the assignment or not. Of course in a real production environemnt you would have to handle all these. But in a case like this I would probably look into dimensionality reduction and ask business for metadata info to see if some of these attributes can be completely ignored."
   ]
  }
 ],
 "metadata": {
  "kernelspec": {
   "display_name": "Python 3 (ipykernel)",
   "language": "python",
   "name": "python3"
  },
  "language_info": {
   "codemirror_mode": {
    "name": "ipython",
    "version": 3
   },
   "file_extension": ".py",
   "mimetype": "text/x-python",
   "name": "python",
   "nbconvert_exporter": "python",
   "pygments_lexer": "ipython3",
   "version": "3.11.5"
  }
 },
 "nbformat": 4,
 "nbformat_minor": 5
}
